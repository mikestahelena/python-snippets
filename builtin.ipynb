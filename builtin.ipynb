{
  "nbformat": 4,
  "nbformat_minor": 0,
  "metadata": {
    "colab": {
      "provenance": [],
      "authorship_tag": "ABX9TyNeYMkJBr6Iy0T3AnBza8Wl",
      "include_colab_link": true
    },
    "kernelspec": {
      "name": "python3",
      "display_name": "Python 3"
    },
    "language_info": {
      "name": "python"
    }
  },
  "cells": [
    {
      "cell_type": "markdown",
      "metadata": {
        "id": "view-in-github",
        "colab_type": "text"
      },
      "source": [
        "<a href=\"https://colab.research.google.com/github/mikestahelena/python-snippets/blob/main/builtin.ipynb\" target=\"_parent\"><img src=\"https://colab.research.google.com/assets/colab-badge.svg\" alt=\"Open In Colab\"/></a>"
      ]
    },
    {
      "cell_type": "markdown",
      "source": [
        "# **Python standard library**\n",
        "https://docs.python.org/3/library/index.html\n",
        "\n",
        "Built-in types: https://docs.python.org/3/library/stdtypes.html\n",
        "*   list, tuple, set, dict\n",
        "\n",
        "Built-in functions: https://docs.python.org/3/library/functions.html\n",
        "*   print(), len(), range(), round(), enumerate(), map(), zip(), etc\n",
        "\n",
        "Built-in modules: \n",
        "*   os, sys, itertools, collections, math, functools, random, etc\n",
        "\n",
        "\n"
      ],
      "metadata": {
        "id": "YNQ0qVkTlHd9"
      }
    },
    {
      "cell_type": "markdown",
      "source": [
        "# range"
      ],
      "metadata": {
        "id": "t1z6pMDPpyeu"
      }
    },
    {
      "cell_type": "code",
      "execution_count": 2,
      "metadata": {
        "colab": {
          "base_uri": "https://localhost:8080/"
        },
        "id": "wv8s97FBk1p-",
        "outputId": "bba9ab8b-a8c5-4d42-e59e-1b95449062a4"
      },
      "outputs": [
        {
          "output_type": "stream",
          "name": "stdout",
          "text": [
            "range(0, 11)\n"
          ]
        }
      ],
      "source": [
        "# range(stop) - create a object range of numbers\n",
        "nums = range(11) # stop parameter is exclusive, not including 11\n",
        "print(nums)"
      ]
    },
    {
      "cell_type": "code",
      "source": [
        "# range object can be converted into a list of numbers\n",
        "nums_list = list(nums)\n",
        "print(nums_list)"
      ],
      "metadata": {
        "colab": {
          "base_uri": "https://localhost:8080/"
        },
        "id": "MBd0QXwUnnrC",
        "outputId": "fbe78948-516c-4f46-ae1c-660fe971817a"
      },
      "execution_count": 3,
      "outputs": [
        {
          "output_type": "stream",
          "name": "stdout",
          "text": [
            "[0, 1, 2, 3, 4, 5, 6, 7, 8, 9, 10]\n"
          ]
        }
      ]
    },
    {
      "cell_type": "code",
      "source": [
        "# range(start, stop) - create a range between \n",
        "nums = range(5, 11) # start value is inclusive and stop parameter is exclusive, not including 11\n",
        "nums_list = list(nums)\n",
        "print(nums_list)"
      ],
      "metadata": {
        "colab": {
          "base_uri": "https://localhost:8080/"
        },
        "id": "XOQvlEcmoRxs",
        "outputId": "49dce0d4-ebae-4954-92e9-46c8ed48ae6d"
      },
      "execution_count": 4,
      "outputs": [
        {
          "output_type": "stream",
          "name": "stdout",
          "text": [
            "[5, 6, 7, 8, 9, 10]\n"
          ]
        }
      ]
    },
    {
      "cell_type": "code",
      "source": [
        "# range(start, stop, step) - create a range between increasing \n",
        "nums = range(0, 11, 2) # start value is inclusive, stop parameter is exclusive and step is increment value\n",
        "nums_list = list(nums)\n",
        "print(nums_list)"
      ],
      "metadata": {
        "colab": {
          "base_uri": "https://localhost:8080/"
        },
        "id": "9W42PY23o3j9",
        "outputId": "1f1d0981-1d5f-475a-d169-8e2c0674a77f"
      },
      "execution_count": 5,
      "outputs": [
        {
          "output_type": "stream",
          "name": "stdout",
          "text": [
            "[0, 2, 4, 6, 8, 10]\n"
          ]
        }
      ]
    },
    {
      "cell_type": "markdown",
      "source": [
        "# enumerate"
      ],
      "metadata": {
        "id": "oYNeCxdDp53m"
      }
    },
    {
      "cell_type": "code",
      "source": [
        "# enumerate() create a enumerate object\n",
        "letters = ['a', 'b', 'c', 'd', 'e']\n",
        "\n",
        "indexed_letters = enumerate(letters) \n",
        "print(indexed_letters)"
      ],
      "metadata": {
        "colab": {
          "base_uri": "https://localhost:8080/"
        },
        "id": "mCG3pygEp_yS",
        "outputId": "47da4451-5ec9-46c1-ddf8-a23f9d5b5508"
      },
      "execution_count": 9,
      "outputs": [
        {
          "output_type": "stream",
          "name": "stdout",
          "text": [
            "<enumerate object at 0x7f7d1cb3db40>\n"
          ]
        }
      ]
    },
    {
      "cell_type": "code",
      "source": [
        "indexed_letters_list = list(indexed_letters)\n",
        "print(indexed_letters_list)"
      ],
      "metadata": {
        "colab": {
          "base_uri": "https://localhost:8080/"
        },
        "id": "SuvikPiaqVBe",
        "outputId": "a0a81c25-ae5b-4adb-c5e5-a14e8f64796a"
      },
      "execution_count": 10,
      "outputs": [
        {
          "output_type": "stream",
          "name": "stdout",
          "text": [
            "[(0, 'a'), (1, 'b'), (2, 'c'), (3, 'd'), (4, 'e')]\n"
          ]
        }
      ]
    }
  ]
}