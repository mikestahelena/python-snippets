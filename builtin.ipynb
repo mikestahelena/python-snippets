{
  "nbformat": 4,
  "nbformat_minor": 0,
  "metadata": {
    "colab": {
      "provenance": [],
      "authorship_tag": "ABX9TyNeP+RF8W0Pp7LqcDsPwl72",
      "include_colab_link": true
    },
    "kernelspec": {
      "name": "python3",
      "display_name": "Python 3"
    },
    "language_info": {
      "name": "python"
    }
  },
  "cells": [
    {
      "cell_type": "markdown",
      "metadata": {
        "id": "view-in-github",
        "colab_type": "text"
      },
      "source": [
        "<a href=\"https://colab.research.google.com/github/mikestahelena/python-snippets/blob/main/builtin.ipynb\" target=\"_parent\"><img src=\"https://colab.research.google.com/assets/colab-badge.svg\" alt=\"Open In Colab\"/></a>"
      ]
    },
    {
      "cell_type": "markdown",
      "source": [
        "# **Python standard library**\n",
        "https://docs.python.org/3/library/index.html\n",
        "\n",
        "Built-in types: https://docs.python.org/3/library/stdtypes.html\n",
        "*   list, tuple, set, dict\n",
        "\n",
        "Built-in functions: https://docs.python.org/3/library/functions.html\n",
        "*   print(), len(), range(), round(), enumerate(), map(), zip(), etc\n",
        "\n",
        "Built-in modules: \n",
        "*   os, sys, itertools, collections, math, functools, random, etc\n",
        "\n",
        "\n"
      ],
      "metadata": {
        "id": "YNQ0qVkTlHd9"
      }
    },
    {
      "cell_type": "code",
      "execution_count": 2,
      "metadata": {
        "colab": {
          "base_uri": "https://localhost:8080/"
        },
        "id": "wv8s97FBk1p-",
        "outputId": "bba9ab8b-a8c5-4d42-e59e-1b95449062a4"
      },
      "outputs": [
        {
          "output_type": "stream",
          "name": "stdout",
          "text": [
            "range(0, 11)\n"
          ]
        }
      ],
      "source": [
        "# range() - create a object range of numbers\n",
        "nums = range(11) #exclusive, not including 11\n",
        "print(nums)"
      ]
    },
    {
      "cell_type": "code",
      "source": [
        "# range object can be converted into a list of numbers\n",
        "nums_list = list(nums)\n",
        "print(nums_list)"
      ],
      "metadata": {
        "colab": {
          "base_uri": "https://localhost:8080/"
        },
        "id": "MBd0QXwUnnrC",
        "outputId": "fbe78948-516c-4f46-ae1c-660fe971817a"
      },
      "execution_count": 3,
      "outputs": [
        {
          "output_type": "stream",
          "name": "stdout",
          "text": [
            "[0, 1, 2, 3, 4, 5, 6, 7, 8, 9, 10]\n"
          ]
        }
      ]
    }
  ]
}