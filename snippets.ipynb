{
  "nbformat": 4,
  "nbformat_minor": 0,
  "metadata": {
    "colab": {
      "provenance": [],
      "authorship_tag": "ABX9TyNCF14rceKbL0c8RaGFuyZQ",
      "include_colab_link": true
    },
    "kernelspec": {
      "name": "python3",
      "display_name": "Python 3"
    },
    "language_info": {
      "name": "python"
    }
  },
  "cells": [
    {
      "cell_type": "markdown",
      "metadata": {
        "id": "view-in-github",
        "colab_type": "text"
      },
      "source": [
        "<a href=\"https://colab.research.google.com/github/mikestahelena/python-snippets/blob/main/snippets.ipynb\" target=\"_parent\"><img src=\"https://colab.research.google.com/assets/colab-badge.svg\" alt=\"Open In Colab\"/></a>"
      ]
    },
    {
      "cell_type": "markdown",
      "source": [
        "# Merge two lists into a dictionary"
      ],
      "metadata": {
        "id": "cI62IqXxTThe"
      }
    },
    {
      "cell_type": "code",
      "execution_count": 1,
      "metadata": {
        "colab": {
          "base_uri": "https://localhost:8080/"
        },
        "id": "8LgSWulvSboG",
        "outputId": "cb7a7aaf-80c7-4f59-fea9-0f3bd500e29a"
      },
      "outputs": [
        {
          "output_type": "stream",
          "name": "stdout",
          "text": [
            "{'country': 'Brazil', 'state': 'RS', 'city': 'Canoas'}\n",
            "{'country': 'Brazil', 'state': 'RS', 'city': 'Canoas'}\n",
            "{'country': 'Brazil', 'state': 'RS', 'city': 'Canoas'}\n"
          ]
        }
      ],
      "source": [
        "keys_list = ['country', 'state', 'city']\n",
        "values_list = ['Brazil', 'RS', 'Canoas']\n",
        "\n",
        "#1 - Using Python's zip, dict function\n",
        "dict_method_1 = dict(zip(keys_list, values_list))\n",
        "print(dict_method_1)\n",
        "\n",
        "#2 - Using the zip function with dictionary comprehensions\n",
        "dict_method_2 = {key:value for key, value in zip(keys_list, values_list)}\n",
        "print(dict_method_2)\n",
        "\n",
        "#3 - Using the zip function with a loop\n",
        "items_tuples = zip(keys_list, values_list) \n",
        "dict_method_3 = {} \n",
        "for key, value in items_tuples: \n",
        "    if key in dict_method_3: \n",
        "        pass # To avoid repeating keys.\n",
        "    else: \n",
        "        dict_method_3[key] = value\n",
        "print(dict_method_3)"
      ]
    },
    {
      "cell_type": "markdown",
      "source": [
        "# Sort a list of dictionaries"
      ],
      "metadata": {
        "id": "GlVElPYkTc7X"
      }
    },
    {
      "cell_type": "code",
      "source": [
        "dicts_list = [\n",
        "  {\n",
        "    'Name': 'James',\n",
        "    'Age': 20,\n",
        "  },\n",
        "  {\n",
        "     'Name': 'May',\n",
        "     'Age': 14,\n",
        "  },\n",
        "  {\n",
        "    'Name': 'Katy',\n",
        "    'Age': 23,\n",
        "  }\n",
        "]\n",
        "\n",
        "#1- Using the sort/sorted function based on the age\n",
        "dicts_list.sort(key=lambda item: item.get('Age'))\n",
        "print(dicts_list)\n",
        "\n",
        "#2- Using itemgetter from operator module based on name\n",
        "from operator import itemgetter\n",
        "f = itemgetter('Name')\n",
        "dicts_list.sort(key=f)\n",
        "print(dicts_list)"
      ],
      "metadata": {
        "colab": {
          "base_uri": "https://localhost:8080/"
        },
        "id": "7eCGdP5uTkVt",
        "outputId": "0dceb108-fbc7-427a-8a63-7cd34e5b2c58"
      },
      "execution_count": 3,
      "outputs": [
        {
          "output_type": "stream",
          "name": "stdout",
          "text": [
            "[{'Name': 'May', 'Age': 14}, {'Name': 'James', 'Age': 20}, {'Name': 'Katy', 'Age': 23}]\n",
            "[{'Name': 'James', 'Age': 20}, {'Name': 'Katy', 'Age': 23}, {'Name': 'May', 'Age': 14}]\n"
          ]
        }
      ]
    },
    {
      "cell_type": "markdown",
      "source": [
        "# Sort a list of strings"
      ],
      "metadata": {
        "id": "08mrljJ4Udr8"
      }
    },
    {
      "cell_type": "code",
      "source": [
        "one_list = ['blue', 'green', 'orange', 'purple', 'yellow']\n",
        "another_list = [3, 2, 5, 4, 1]\n",
        "#Use list comprehensions to sort these lists\n",
        "sorted_list =  [val for (_, val) in sorted(zip(another_list, one_list), key=lambda x: x[0])]\n",
        "print(sorted_list)"
      ],
      "metadata": {
        "colab": {
          "base_uri": "https://localhost:8080/"
        },
        "id": "GSwwQ7pKUlQg",
        "outputId": "1c0410f5-d994-4200-d01e-56ba8d9bd616"
      },
      "execution_count": 5,
      "outputs": [
        {
          "output_type": "stream",
          "name": "stdout",
          "text": [
            "['yellow', 'green', 'blue', 'purple', 'orange']\n"
          ]
        }
      ]
    }
  ]
}