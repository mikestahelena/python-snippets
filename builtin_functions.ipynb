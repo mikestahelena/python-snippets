{
  "nbformat": 4,
  "nbformat_minor": 0,
  "metadata": {
    "colab": {
      "provenance": [],
      "authorship_tag": "ABX9TyM8bibz1Tbj0Qhpod7o35ra",
      "include_colab_link": true
    },
    "kernelspec": {
      "name": "python3",
      "display_name": "Python 3"
    },
    "language_info": {
      "name": "python"
    }
  },
  "cells": [
    {
      "cell_type": "markdown",
      "metadata": {
        "id": "view-in-github",
        "colab_type": "text"
      },
      "source": [
        "<a href=\"https://colab.research.google.com/github/mikestahelena/python-snippets/blob/main/builtin_functions.ipynb\" target=\"_parent\"><img src=\"https://colab.research.google.com/assets/colab-badge.svg\" alt=\"Open In Colab\"/></a>"
      ]
    },
    {
      "cell_type": "markdown",
      "source": [
        "# **Python standard library**\n",
        "https://docs.python.org/3/library/index.html\n",
        "\n",
        "Built-in types: https://docs.python.org/3/library/stdtypes.html\n",
        "*   list, tuple, set, dict\n",
        "\n",
        "Built-in functions: https://docs.python.org/3/library/functions.html\n",
        "*   print(), len(), range(), round(), enumerate(), map(), zip(), etc\n",
        "\n",
        "Built-in modules: \n",
        "*   os, sys, itertools, collections, math, functools, random, etc\n",
        "\n",
        "\n"
      ],
      "metadata": {
        "id": "YNQ0qVkTlHd9"
      }
    },
    {
      "cell_type": "markdown",
      "source": [
        "# range"
      ],
      "metadata": {
        "id": "t1z6pMDPpyeu"
      }
    },
    {
      "cell_type": "code",
      "execution_count": 17,
      "metadata": {
        "colab": {
          "base_uri": "https://localhost:8080/"
        },
        "id": "wv8s97FBk1p-",
        "outputId": "1ada6bfe-b76c-4fc4-ccd8-e360388b7aa9"
      },
      "outputs": [
        {
          "output_type": "stream",
          "name": "stdout",
          "text": [
            "<class 'range'>\n"
          ]
        }
      ],
      "source": [
        "# range(stop) - create a object range of numbers\n",
        "nums = range(11) # stop parameter is exclusive, not including 11\n",
        "print(type(nums))"
      ]
    },
    {
      "cell_type": "code",
      "source": [
        "# range object can be converted into a list of numbers\n",
        "nums_list = list(nums)\n",
        "print(nums_list)"
      ],
      "metadata": {
        "colab": {
          "base_uri": "https://localhost:8080/"
        },
        "id": "MBd0QXwUnnrC",
        "outputId": "fbe78948-516c-4f46-ae1c-660fe971817a"
      },
      "execution_count": 3,
      "outputs": [
        {
          "output_type": "stream",
          "name": "stdout",
          "text": [
            "[0, 1, 2, 3, 4, 5, 6, 7, 8, 9, 10]\n"
          ]
        }
      ]
    },
    {
      "cell_type": "code",
      "source": [
        "# range(start, stop) - create a range between \n",
        "nums = range(5, 11) # start value is inclusive and stop parameter is exclusive, not including 11\n",
        "nums_list = list(nums)\n",
        "print(nums_list)"
      ],
      "metadata": {
        "colab": {
          "base_uri": "https://localhost:8080/"
        },
        "id": "XOQvlEcmoRxs",
        "outputId": "49dce0d4-ebae-4954-92e9-46c8ed48ae6d"
      },
      "execution_count": 4,
      "outputs": [
        {
          "output_type": "stream",
          "name": "stdout",
          "text": [
            "[5, 6, 7, 8, 9, 10]\n"
          ]
        }
      ]
    },
    {
      "cell_type": "code",
      "source": [
        "# range(start, stop, step) - create a range between increasing \n",
        "nums = range(0, 11, 2) # start value is inclusive, stop parameter is exclusive and step is increment value\n",
        "nums_list = list(nums)\n",
        "print(nums_list)"
      ],
      "metadata": {
        "colab": {
          "base_uri": "https://localhost:8080/"
        },
        "id": "9W42PY23o3j9",
        "outputId": "1f1d0981-1d5f-475a-d169-8e2c0674a77f"
      },
      "execution_count": 5,
      "outputs": [
        {
          "output_type": "stream",
          "name": "stdout",
          "text": [
            "[0, 2, 4, 6, 8, 10]\n"
          ]
        }
      ]
    },
    {
      "cell_type": "code",
      "source": [
        "# example\n",
        "\n",
        "number_of_iterations = 10\n",
        "\n",
        "for i in range(number_of_iterations):\n",
        "  print(f'iteration: {i}')"
      ],
      "metadata": {
        "colab": {
          "base_uri": "https://localhost:8080/"
        },
        "id": "Notss9qVquIP",
        "outputId": "6e0bcf4a-ac8f-407b-ae8b-a4e7e916991a"
      },
      "execution_count": 11,
      "outputs": [
        {
          "output_type": "stream",
          "name": "stdout",
          "text": [
            "iteration: 0\n",
            "iteration: 1\n",
            "iteration: 2\n",
            "iteration: 3\n",
            "iteration: 4\n",
            "iteration: 5\n",
            "iteration: 6\n",
            "iteration: 7\n",
            "iteration: 8\n",
            "iteration: 9\n"
          ]
        }
      ]
    },
    {
      "cell_type": "code",
      "source": [
        "# Create a range object that goes from 0 to 5\n",
        "nums = range(0, 6)\n",
        "print(type(nums))\n",
        "\n",
        "# Convert nums to a list\n",
        "nums_list = list(nums)\n",
        "print(nums_list)\n",
        "\n",
        "# Create a new list of odd numbers from 1 to 11 by unpacking a range object\n",
        "nums_list2 = [*range(1,12,2)]\n",
        "print(nums_list2)"
      ],
      "metadata": {
        "colab": {
          "base_uri": "https://localhost:8080/"
        },
        "id": "tRoLeCIwu6UT",
        "outputId": "63bbd59b-3994-4c47-a88e-72b093e9ee41"
      },
      "execution_count": 22,
      "outputs": [
        {
          "output_type": "stream",
          "name": "stdout",
          "text": [
            "<class 'range'>\n",
            "[0, 1, 2, 3, 4, 5]\n",
            "[1, 3, 5, 7, 9, 11]\n"
          ]
        }
      ]
    },
    {
      "cell_type": "markdown",
      "source": [
        "# enumerate"
      ],
      "metadata": {
        "id": "oYNeCxdDp53m"
      }
    },
    {
      "cell_type": "code",
      "source": [
        "# enumerate() create a enumerate object\n",
        "letters = ['a', 'b', 'c', 'd', 'e']\n",
        "\n",
        "indexed_letters = enumerate(letters) \n",
        "print(type(indexed_letters))"
      ],
      "metadata": {
        "colab": {
          "base_uri": "https://localhost:8080/"
        },
        "id": "mCG3pygEp_yS",
        "outputId": "9fee517e-8764-441e-9a19-a0fcc60d2d5b"
      },
      "execution_count": 18,
      "outputs": [
        {
          "output_type": "stream",
          "name": "stdout",
          "text": [
            "<class 'enumerate'>\n"
          ]
        }
      ]
    },
    {
      "cell_type": "code",
      "source": [
        "indexed_letters_list = list(indexed_letters)\n",
        "print(indexed_letters_list)"
      ],
      "metadata": {
        "colab": {
          "base_uri": "https://localhost:8080/"
        },
        "id": "SuvikPiaqVBe",
        "outputId": "a0a81c25-ae5b-4adb-c5e5-a14e8f64796a"
      },
      "execution_count": 10,
      "outputs": [
        {
          "output_type": "stream",
          "name": "stdout",
          "text": [
            "[(0, 'a'), (1, 'b'), (2, 'c'), (3, 'd'), (4, 'e')]\n"
          ]
        }
      ]
    },
    {
      "cell_type": "code",
      "source": [
        "# enumerate(list, start) start with value\n",
        "indexed_letters = enumerate(letters, start=5) #start is the initial value of index\n",
        "\n",
        "indexed_letters_list = list(indexed_letters)\n",
        "print(indexed_letters_list)"
      ],
      "metadata": {
        "colab": {
          "base_uri": "https://localhost:8080/"
        },
        "id": "bGGI151KrYxu",
        "outputId": "089ad970-0343-4111-b627-d0a68ee68819"
      },
      "execution_count": 13,
      "outputs": [
        {
          "output_type": "stream",
          "name": "stdout",
          "text": [
            "[(5, 'a'), (6, 'b'), (7, 'c'), (8, 'd'), (9, 'e')]\n"
          ]
        }
      ]
    },
    {
      "cell_type": "code",
      "source": [
        "# example\n",
        "some_list = ['Alice', 'Bob', 'Eve', 'Mallory', 'Trent']\n",
        "\n",
        "for i, name in enumerate(some_list):\n",
        "  print(f'{i} - {name}')\n"
      ],
      "metadata": {
        "colab": {
          "base_uri": "https://localhost:8080/"
        },
        "id": "EazffJiysDH8",
        "outputId": "f886a2f8-76de-45ad-a460-4724cc4f73b8"
      },
      "execution_count": 14,
      "outputs": [
        {
          "output_type": "stream",
          "name": "stdout",
          "text": [
            "0 - Alice\n",
            "1 - Bob\n",
            "2 - Eve\n",
            "3 - Mallory\n",
            "4 - Trent\n"
          ]
        }
      ]
    },
    {
      "cell_type": "code",
      "source": [
        "names = ['Jerry', 'Kramer', 'Elaine', 'George', 'Newman']\n",
        "# for loop using enumerate\n",
        "indexed_names = []\n",
        "for i, name in enumerate(names):\n",
        "    index_name = (i,name)\n",
        "    indexed_names.append(index_name) \n",
        "print(indexed_names)\n",
        "\n",
        "# Rewrite the above for loop using list comprehension\n",
        "indexed_names_comp = [(i, name) for i,name in enumerate(names)]\n",
        "print(indexed_names_comp)\n",
        "\n",
        "# Unpack an enumerate object with a starting index of one\n",
        "indexed_names_unpack = [*enumerate(names, start=1)]\n",
        "print(indexed_names_unpack)\n"
      ],
      "metadata": {
        "id": "iwdrzQuBvGqU"
      },
      "execution_count": null,
      "outputs": []
    },
    {
      "cell_type": "markdown",
      "source": [
        "# map"
      ],
      "metadata": {
        "id": "aDKLyVyps4uQ"
      }
    },
    {
      "cell_type": "code",
      "source": [
        "# map(function, object) - apply a function to each element in a object\n",
        "\n",
        "some_nums = [1.5, 2.3, 3.4, 4.6, 5.0]\n",
        "\n",
        "round_nums = map(round, some_nums) # round is the function applied over some_nums\n",
        "print(type(round_nums))\n",
        "\n",
        "print(list(round_nums))"
      ],
      "metadata": {
        "colab": {
          "base_uri": "https://localhost:8080/"
        },
        "id": "ULpwYjqYs9Hi",
        "outputId": "4eb114fb-e470-4d15-e427-065da7efeb6e"
      },
      "execution_count": 21,
      "outputs": [
        {
          "output_type": "stream",
          "name": "stdout",
          "text": [
            "<class 'map'>\n",
            "[2, 2, 3, 5, 5]\n"
          ]
        }
      ]
    },
    {
      "cell_type": "code",
      "source": [
        "nums = [1, 2, 3, 4, 5, 6]\n",
        "\n",
        "squared_nums = map(lambda n: n ** 2, nums) # lambda n: n ** 2 is the function applied over nums\n",
        "\n",
        "print(list(squared_nums))"
      ],
      "metadata": {
        "colab": {
          "base_uri": "https://localhost:8080/"
        },
        "id": "K83awwPftyMW",
        "outputId": "b34e0364-5a95-4a11-86af-9e1b5b8df62c"
      },
      "execution_count": 16,
      "outputs": [
        {
          "output_type": "stream",
          "name": "stdout",
          "text": [
            "[1, 4, 9, 16, 25, 36]\n"
          ]
        }
      ]
    },
    {
      "cell_type": "code",
      "source": [
        "names = ['Jerry', 'Kramer', 'Elaine', 'George', 'Newman']\n",
        "# Use map to apply str.upper to each element in names\n",
        "names_map  = map(str.upper, names)\n",
        "\n",
        "# Print the type of the names_map\n",
        "print(type(names_map))\n",
        "\n",
        "# Unpack names_map into a list\n",
        "names_uppercase = [*names_map]\n",
        "\n",
        "# Print the list created above\n",
        "print(names_uppercase)"
      ],
      "metadata": {
        "colab": {
          "base_uri": "https://localhost:8080/"
        },
        "id": "JhMGX64mvxds",
        "outputId": "d2d674f8-5f70-468f-cd63-832f0d7cae16"
      },
      "execution_count": 23,
      "outputs": [
        {
          "output_type": "stream",
          "name": "stdout",
          "text": [
            "<class 'map'>\n",
            "['JERRY', 'KRAMER', 'ELAINE', 'GEORGE', 'NEWMAN']\n"
          ]
        }
      ]
    }
  ]
}