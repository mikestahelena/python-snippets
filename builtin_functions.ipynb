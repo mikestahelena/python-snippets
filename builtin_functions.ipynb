{
  "nbformat": 4,
  "nbformat_minor": 0,
  "metadata": {
    "colab": {
      "provenance": [],
      "authorship_tag": "ABX9TyM8bibz1Tbj0Qhpod7o35ra",
      "include_colab_link": true
    },
    "kernelspec": {
      "name": "python3",
      "display_name": "Python 3"
    },
    "language_info": {
      "name": "python"
    }
  },
  "cells": [
    {
      "cell_type": "markdown",
      "metadata": {
        "id": "view-in-github",
        "colab_type": "text"
      },
      "source": [
        "<a href=\"https://colab.research.google.com/github/mikestahelena/python-snippets/blob/main/builtin_functions.ipynb\" target=\"_parent\"><img src=\"https://colab.research.google.com/assets/colab-badge.svg\" alt=\"Open In Colab\"/></a>"
      ]
    },
    {
      "cell_type": "markdown",
      "source": [
        "# **Python standard library**\n",
        "https://docs.python.org/3/library/index.html\n",
        "\n",
        "Built-in types: https://docs.python.org/3/library/stdtypes.html\n",
        "*   list, tuple, set, dict\n",
        "\n",
        "Built-in functions: https://docs.python.org/3/library/functions.html\n",
        "*   print(), len(), range(), round(), enumerate(), map(), zip(), etc\n",
        "\n",
        "Built-in modules: \n",
        "*   os, sys, itertools, collections, math, functools, random, etc\n",
        "\n",
        "\n"
      ],
      "metadata": {
        "id": "YNQ0qVkTlHd9"
      }
    },
    {
      "cell_type": "markdown",
      "source": [
        "# range"
      ],
      "metadata": {
        "id": "t1z6pMDPpyeu"
      }
    },
    {
      "cell_type": "code",
      "execution_count": 24,
      "metadata": {
        "colab": {
          "base_uri": "https://localhost:8080/"
        },
        "id": "wv8s97FBk1p-",
        "outputId": "5d32f408-a20f-4636-9e7b-ff7d891f57a4"
      },
      "outputs": [
        {
          "output_type": "stream",
          "name": "stdout",
          "text": [
            "<class 'range'>\n"
          ]
        }
      ],
      "source": [
        "# range(stop) - create a object range of numbers\n",
        "nums = range(11) # stop parameter is exclusive, not including 11\n",
        "print(type(nums))"
      ]
    },
    {
      "cell_type": "code",
      "source": [
        "# range object can be converted into a list of numbers\n",
        "nums_list = list(nums)\n",
        "print(nums_list)"
      ],
      "metadata": {
        "colab": {
          "base_uri": "https://localhost:8080/"
        },
        "id": "MBd0QXwUnnrC",
        "outputId": "c7e4b2bf-fcaf-4aa5-f6a5-72dd548e2f04"
      },
      "execution_count": 25,
      "outputs": [
        {
          "output_type": "stream",
          "name": "stdout",
          "text": [
            "[0, 1, 2, 3, 4, 5, 6, 7, 8, 9, 10]\n"
          ]
        }
      ]
    },
    {
      "cell_type": "code",
      "source": [
        "# range(start, stop) - create a range between \n",
        "nums = range(5, 11) # start value is inclusive and stop parameter is exclusive, not including 11\n",
        "nums_list = list(nums)\n",
        "print(nums_list)"
      ],
      "metadata": {
        "colab": {
          "base_uri": "https://localhost:8080/"
        },
        "id": "XOQvlEcmoRxs",
        "outputId": "c840d033-2995-443c-aea6-5ca3ae1bf44e"
      },
      "execution_count": 26,
      "outputs": [
        {
          "output_type": "stream",
          "name": "stdout",
          "text": [
            "[5, 6, 7, 8, 9, 10]\n"
          ]
        }
      ]
    },
    {
      "cell_type": "code",
      "source": [
        "# range(start, stop, step) - create a range between increasing \n",
        "nums = range(0, 11, 2) # start value is inclusive, stop parameter is exclusive and step is increment value\n",
        "nums_list = list(nums)\n",
        "print(nums_list)"
      ],
      "metadata": {
        "colab": {
          "base_uri": "https://localhost:8080/"
        },
        "id": "9W42PY23o3j9",
        "outputId": "72c0edb8-baba-4f32-ea9c-5b030845ef56"
      },
      "execution_count": 27,
      "outputs": [
        {
          "output_type": "stream",
          "name": "stdout",
          "text": [
            "[0, 2, 4, 6, 8, 10]\n"
          ]
        }
      ]
    },
    {
      "cell_type": "code",
      "source": [
        "# example\n",
        "\n",
        "number_of_iterations = 10\n",
        "\n",
        "for i in range(number_of_iterations):\n",
        "  print(f'iteration: {i}')"
      ],
      "metadata": {
        "colab": {
          "base_uri": "https://localhost:8080/"
        },
        "id": "Notss9qVquIP",
        "outputId": "4242070f-34dd-48f4-92c2-450de2e64ed2"
      },
      "execution_count": 28,
      "outputs": [
        {
          "output_type": "stream",
          "name": "stdout",
          "text": [
            "iteration: 0\n",
            "iteration: 1\n",
            "iteration: 2\n",
            "iteration: 3\n",
            "iteration: 4\n",
            "iteration: 5\n",
            "iteration: 6\n",
            "iteration: 7\n",
            "iteration: 8\n",
            "iteration: 9\n"
          ]
        }
      ]
    },
    {
      "cell_type": "code",
      "source": [
        "# Create a range object that goes from 0 to 5\n",
        "nums = range(0, 6)\n",
        "print(type(nums))\n",
        "\n",
        "# Convert nums to a list\n",
        "nums_list = list(nums)\n",
        "print(nums_list)\n",
        "\n",
        "# Create a new list of odd numbers from 1 to 11 by unpacking a range object\n",
        "nums_list2 = [*range(1,12,2)]\n",
        "print(nums_list2)"
      ],
      "metadata": {
        "colab": {
          "base_uri": "https://localhost:8080/"
        },
        "id": "tRoLeCIwu6UT",
        "outputId": "750f5b8a-9a0f-4e75-d10d-1d22d1bb5ca1"
      },
      "execution_count": 29,
      "outputs": [
        {
          "output_type": "stream",
          "name": "stdout",
          "text": [
            "<class 'range'>\n",
            "[0, 1, 2, 3, 4, 5]\n",
            "[1, 3, 5, 7, 9, 11]\n"
          ]
        }
      ]
    },
    {
      "cell_type": "markdown",
      "source": [
        "# enumerate"
      ],
      "metadata": {
        "id": "oYNeCxdDp53m"
      }
    },
    {
      "cell_type": "code",
      "source": [
        "# enumerate() create a enumerate object\n",
        "letters = ['a', 'b', 'c', 'd', 'e']\n",
        "\n",
        "indexed_letters = enumerate(letters) \n",
        "print(type(indexed_letters))"
      ],
      "metadata": {
        "colab": {
          "base_uri": "https://localhost:8080/"
        },
        "id": "mCG3pygEp_yS",
        "outputId": "c5fcb2d5-e658-4474-97f7-7484e38d15c4"
      },
      "execution_count": 30,
      "outputs": [
        {
          "output_type": "stream",
          "name": "stdout",
          "text": [
            "<class 'enumerate'>\n"
          ]
        }
      ]
    },
    {
      "cell_type": "code",
      "source": [
        "indexed_letters_list = list(indexed_letters)\n",
        "print(indexed_letters_list)"
      ],
      "metadata": {
        "colab": {
          "base_uri": "https://localhost:8080/"
        },
        "id": "SuvikPiaqVBe",
        "outputId": "7398bbf1-c1f5-4b87-c3be-e7baea26d407"
      },
      "execution_count": 31,
      "outputs": [
        {
          "output_type": "stream",
          "name": "stdout",
          "text": [
            "[(0, 'a'), (1, 'b'), (2, 'c'), (3, 'd'), (4, 'e')]\n"
          ]
        }
      ]
    },
    {
      "cell_type": "code",
      "source": [
        "# enumerate(list, start) start with value\n",
        "indexed_letters = enumerate(letters, start=5) #start is the initial value of index\n",
        "\n",
        "indexed_letters_list = list(indexed_letters)\n",
        "print(indexed_letters_list)"
      ],
      "metadata": {
        "colab": {
          "base_uri": "https://localhost:8080/"
        },
        "id": "bGGI151KrYxu",
        "outputId": "7faae90f-1c1f-4640-e55d-404d5fa11c57"
      },
      "execution_count": 32,
      "outputs": [
        {
          "output_type": "stream",
          "name": "stdout",
          "text": [
            "[(5, 'a'), (6, 'b'), (7, 'c'), (8, 'd'), (9, 'e')]\n"
          ]
        }
      ]
    },
    {
      "cell_type": "code",
      "source": [
        "# example\n",
        "some_list = ['Alice', 'Bob', 'Eve', 'Mallory', 'Trent']\n",
        "\n",
        "for i, name in enumerate(some_list):\n",
        "  print(f'{i} - {name}')\n"
      ],
      "metadata": {
        "colab": {
          "base_uri": "https://localhost:8080/"
        },
        "id": "EazffJiysDH8",
        "outputId": "6ee3fd1e-4045-4779-db15-3e64d7ca190f"
      },
      "execution_count": 33,
      "outputs": [
        {
          "output_type": "stream",
          "name": "stdout",
          "text": [
            "0 - Alice\n",
            "1 - Bob\n",
            "2 - Eve\n",
            "3 - Mallory\n",
            "4 - Trent\n"
          ]
        }
      ]
    },
    {
      "cell_type": "code",
      "source": [
        "names = ['Jerry', 'Kramer', 'Elaine', 'George', 'Newman']\n",
        "# for loop using enumerate\n",
        "indexed_names = []\n",
        "for i, name in enumerate(names):\n",
        "    index_name = (i,name)\n",
        "    indexed_names.append(index_name) \n",
        "print(indexed_names)\n",
        "\n",
        "# Rewrite the above for loop using list comprehension\n",
        "indexed_names_comp = [(i, name) for i,name in enumerate(names)]\n",
        "print(indexed_names_comp)\n",
        "\n",
        "# Unpack an enumerate object with a starting index of one\n",
        "indexed_names_unpack = [*enumerate(names, start=1)]\n",
        "print(indexed_names_unpack)\n"
      ],
      "metadata": {
        "colab": {
          "base_uri": "https://localhost:8080/"
        },
        "id": "iwdrzQuBvGqU",
        "outputId": "3be7cd90-ce0b-40d3-d4cb-2b5a50e8513f"
      },
      "execution_count": 34,
      "outputs": [
        {
          "output_type": "stream",
          "name": "stdout",
          "text": [
            "[(0, 'Jerry'), (1, 'Kramer'), (2, 'Elaine'), (3, 'George'), (4, 'Newman')]\n",
            "[(0, 'Jerry'), (1, 'Kramer'), (2, 'Elaine'), (3, 'George'), (4, 'Newman')]\n",
            "[(1, 'Jerry'), (2, 'Kramer'), (3, 'Elaine'), (4, 'George'), (5, 'Newman')]\n"
          ]
        }
      ]
    },
    {
      "cell_type": "markdown",
      "source": [
        "# map"
      ],
      "metadata": {
        "id": "aDKLyVyps4uQ"
      }
    },
    {
      "cell_type": "code",
      "source": [
        "# map(function, object) - apply a function to each element in a object\n",
        "\n",
        "some_nums = [1.5, 2.3, 3.4, 4.6, 5.0]\n",
        "\n",
        "round_nums = map(round, some_nums) # round is the function applied over some_nums\n",
        "print(type(round_nums))\n",
        "\n",
        "print(list(round_nums))"
      ],
      "metadata": {
        "colab": {
          "base_uri": "https://localhost:8080/"
        },
        "id": "ULpwYjqYs9Hi",
        "outputId": "e975fca7-3031-418b-cd1b-90331f2b8af5"
      },
      "execution_count": 35,
      "outputs": [
        {
          "output_type": "stream",
          "name": "stdout",
          "text": [
            "<class 'map'>\n",
            "[2, 2, 3, 5, 5]\n"
          ]
        }
      ]
    },
    {
      "cell_type": "code",
      "source": [
        "nums = [1, 2, 3, 4, 5, 6]\n",
        "\n",
        "squared_nums = map(lambda n: n ** 2, nums) # lambda n: n ** 2 is the function applied over nums\n",
        "\n",
        "print(list(squared_nums))"
      ],
      "metadata": {
        "colab": {
          "base_uri": "https://localhost:8080/"
        },
        "id": "K83awwPftyMW",
        "outputId": "9697d34b-b22e-44f9-9c78-8f39a59a99ea"
      },
      "execution_count": 36,
      "outputs": [
        {
          "output_type": "stream",
          "name": "stdout",
          "text": [
            "[1, 4, 9, 16, 25, 36]\n"
          ]
        }
      ]
    },
    {
      "cell_type": "code",
      "source": [
        "names = ['Jerry', 'Kramer', 'Elaine', 'George', 'Newman']\n",
        "# Use map to apply str.upper to each element in names\n",
        "names_map  = map(str.upper, names)\n",
        "\n",
        "# Print the type of the names_map\n",
        "print(type(names_map))\n",
        "\n",
        "# Unpack names_map into a list\n",
        "names_uppercase = [*names_map]\n",
        "\n",
        "# Print the list created above\n",
        "print(names_uppercase)"
      ],
      "metadata": {
        "colab": {
          "base_uri": "https://localhost:8080/"
        },
        "id": "JhMGX64mvxds",
        "outputId": "237f85e6-8d8e-4d65-bc91-740fdff3409b"
      },
      "execution_count": 37,
      "outputs": [
        {
          "output_type": "stream",
          "name": "stdout",
          "text": [
            "<class 'map'>\n",
            "['JERRY', 'KRAMER', 'ELAINE', 'GEORGE', 'NEWMAN']\n"
          ]
        }
      ]
    }
  ]
}